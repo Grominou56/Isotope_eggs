{
 "cells": [
  {
   "cell_type": "code",
   "execution_count": 1,
   "id": "6e7822f4",
   "metadata": {},
   "outputs": [],
   "source": [
    "\"\"\" Import libraries \"\"\"\n",
    "\n",
    "import pandas as pd\n",
    "import matplotlib.pyplot as plt\n",
    "from gui_functions import load_spreadsheets_from_folder, select_columns_gui, filter_dataframe_by_checkboxes"
   ]
  },
  {
   "cell_type": "code",
   "execution_count": 2,
   "id": "21815fe8",
   "metadata": {},
   "outputs": [
    {
     "name": "stdout",
     "output_type": "stream",
     "text": [
      "['Taxon', 'Family', 'Animal', 'Material', 'Geographic_location', 'Country', 'Age', 'Formation', 'Environment', 'Captive_wild', 'd18Oc', 'd18OcSD', 'd18OcStd', 'd13Cc', 'd13CcSD', 'd18Owmoy', 'Water_source', 'Min_LAT', 'Max_LAT', 'Min_LONG', 'Max_LONG', 'Notes', 'DOI', 'RefShort', 'source_file', 'Collection_number', 'd13Corg', 'd15Norg', 'd18OwSD', 'd13Cfood', 'd15Nfood', 'Laying_year', 'Laying_month', 'Ootaxon', 'D47c', 'D47cSD', 'Fe/Ca', 'Li/Ca', 'Mg/Ca', 'Mn/Ca', 'SR/Ca', 'd13CfoodSD', 'd18Oalb', 'd18OalbSD', 'Mn(ppm)', 'Fe(ppm)', 'D48c', 'D48cSD', 'Min_Lat', 'Max_Lat', 'Min_Long', 'Max_Long', 'WebLink', 'Sr(ppm)', 'MgO(%)', 'd13Calb', 'd13CalbSD', 'd15Nalb', 'd15NalbSD', 'd34Salb', 'd34SalbSD']\n",
      "the dataframe contains 1218 lines and 61 columns\n"
     ]
    }
   ],
   "source": [
    "\"\"\" Load spreadsheets and create Pandas dataframe \"\"\"\n",
    "\n",
    "df = load_spreadsheets_from_folder()\n",
    "print(df.columns.tolist())\n",
    "print(f'the dataframe contains {df.shape[0]} lines and {df.shape[1]} columns' )"
   ]
  },
  {
   "cell_type": "code",
   "execution_count": 3,
   "id": "b967993a",
   "metadata": {},
   "outputs": [
    {
     "name": "stdout",
     "output_type": "stream",
     "text": [
      "['Animal', 'Age', 'Environment', 'd18Oc', 'd18OcStd', 'd13Cc']\n",
      "the dataframe contains 1218 lines and 6 columns\n"
     ]
    },
    {
     "data": {
      "text/plain": [
       "Animal          object\n",
       "Age             object\n",
       "Environment     object\n",
       "d18Oc          float64\n",
       "d18OcStd        object\n",
       "d13Cc          float64\n",
       "dtype: object"
      ]
     },
     "execution_count": 3,
     "metadata": {},
     "output_type": "execute_result"
    }
   ],
   "source": [
    "\"\"\" Select only relevant columns \"\"\"\n",
    "\n",
    "df_select = select_columns_gui(df)\n",
    "\n",
    "print(df_select.columns.tolist())\n",
    "print(f'the dataframe contains {df_select.shape[0]} lines and {df_select.shape[1]} columns' )\n",
    "df_select.dtypes"
   ]
  },
  {
   "cell_type": "code",
   "execution_count": null,
   "id": "e391d8dc",
   "metadata": {},
   "outputs": [],
   "source": [
    "\"\"\" Filter dataframe by various checkboxes \"\"\"\n",
    "\n",
    "filtered_df = filter_dataframe_by_checkboxes(df_select)"
   ]
  },
  {
   "cell_type": "code",
   "execution_count": null,
   "id": "0dad6ab1",
   "metadata": {},
   "outputs": [],
   "source": [
    "print(filtered_df)"
   ]
  },
  {
   "cell_type": "code",
   "execution_count": null,
   "id": "bebdbdb8",
   "metadata": {},
   "outputs": [],
   "source": [
    "\"\"\" Dataset cleaning \"\"\"\n",
    "\n",
    "# Select only extant animals\n",
    "\n",
    "df_extant = df_select[df_select['Age'] == 'present-day']\n",
    "\n",
    "# Remove entries with missing values\n",
    "\n",
    "df_OCisotopes = df_extant.dropna(axis=0, subset=['d18Oc', 'd18Owmoy', 'Animal'])\n",
    "\n",
    "# Convert V-PDB d18O values to V-SMOW scale\n",
    "\n",
    "df_OCisotopes.loc[df_OCisotopes['d18OcStd'] == 'V-PDB', 'd18Oc'] = (1.03092 * df_OCisotopes.loc[df_OCisotopes['d18OcStd'] == 'V-PDB', 'd18Oc'] + 30.92)\n",
    "df_OCisotopes.dtypes"
   ]
  },
  {
   "cell_type": "code",
   "execution_count": null,
   "id": "fcbe535a",
   "metadata": {},
   "outputs": [],
   "source": [
    "\"\"\" Showing dataset as plots \"\"\"\n",
    "\n",
    "# Scatter plot of two variables (x, y) and category separator (marker style)\n",
    "\n",
    "x_axis = 'd18Oc'\n",
    "y_axis = 'd18Owmoy'\n",
    "marker_separator = 'Animal'\n",
    "\n",
    "# df_OCisotopes.plot(kind='scatter', x=x, y=Y, c=None)\n",
    "\n",
    "# Define a list of markers to cycle through\n",
    "markers = ['o', 's', 'D', '^', '*', 'x', 'P', 'H']\n",
    "group_values = df_OCisotopes[marker_separator].unique()\n",
    "\n",
    "fig, ax = plt.subplots()\n",
    "\n",
    "for i, Animal in enumerate(group_values):\n",
    "    marker = markers[i % len(markers)]\n",
    "    subset = df_OCisotopes[df_OCisotopes[marker_separator] == Animal]\n",
    "    ax.scatter(subset[x_axis], subset[y_axis], marker=marker, label=f\"{Animal}\")\n",
    "\n",
    "ax.legend()\n",
    "plt.show()"
   ]
  }
 ],
 "metadata": {
  "kernelspec": {
   "display_name": ".venv",
   "language": "python",
   "name": "python3"
  },
  "language_info": {
   "codemirror_mode": {
    "name": "ipython",
    "version": 3
   },
   "file_extension": ".py",
   "mimetype": "text/x-python",
   "name": "python",
   "nbconvert_exporter": "python",
   "pygments_lexer": "ipython3",
   "version": "3.11.2"
  }
 },
 "nbformat": 4,
 "nbformat_minor": 5
}
