{
 "cells": [
  {
   "cell_type": "code",
   "execution_count": 1,
   "metadata": {},
   "outputs": [],
   "source": [
    "\"\"\" Import required packages \"\"\"\n",
    "\n",
    "import netCDF4 as nc\n",
    "import numpy as np\n",
    "import matplotlib.pyplot as plt\n",
    "import cartopy.crs as ccrs\n",
    "from cartopy.mpl.gridliner import LONGITUDE_FORMATTER, LATITUDE_FORMATTER\n",
    "import LoadSaveFunctions as lsf"
   ]
  },
  {
   "cell_type": "code",
   "execution_count": null,
   "metadata": {},
   "outputs": [],
   "source": [
    "\"\"\" Load netCDF File and extract variables\"\"\"\n",
    "\n",
    "file_path = lsf.load_file()\n",
    "dataset = nc.Dataset(file_path)\n",
    "\n",
    "lat = dataset.variables['lat'][:]\n",
    "lon = dataset.variables['lon'][:]\n",
    "depth = dataset.variables['depth'][:]\n",
    "d18Osw = dataset.variables['d18o'][:]\n",
    "\n",
    "dataset.close()\n",
    "\n",
    "print('Min value: {:.2f}; Max value: {:.2f}'.format(d18Osw.min(), d18Osw.max()))"
   ]
  },
  {
   "cell_type": "code",
   "execution_count": null,
   "metadata": {},
   "outputs": [],
   "source": [
    "# Coordinates to search for\n",
    "target_latitude = 40.0   # Replace with your target latitude\n",
    "target_longitude = -20.0  # Replace with your target longitude\n",
    "target_depth = 0.0      # Replace with your target depth\n",
    "\n",
    "# Find the indices of the nearest latitude, longitude, and depth\n",
    "lat_idx = np.abs(lat - target_latitude).argmin()\n",
    "lon_idx = np.abs(lon - target_longitude).argmin()\n",
    "depth_idx = np.abs(depth - target_depth).argmin()\n",
    "\n",
    "# Get the oxygen isotope value at the nearest coordinates\n",
    "d18Osw_value = d18Osw[depth_idx, lat_idx, lon_idx]\n",
    "\n",
    "# Output the result\n",
    "print('Oxygen isotope composition of seawater: {:.2f} ‰ (V-SMOW)'.format(d18Osw_value))"
   ]
  },
  {
   "cell_type": "code",
   "execution_count": null,
   "metadata": {},
   "outputs": [],
   "source": [
    "\"\"\"Plot map at given depth\"\"\"\n",
    "\n",
    "# Function to find the nearest depth value\n",
    "def find_nearest_depth(depth_array, input_depth):\n",
    "    idx = (np.abs(depth_array - input_depth)).argmin()\n",
    "    return idx\n",
    "\n",
    "# Choose depth\n",
    "dpth = 20 #insert positive value in meters\n",
    "nearest_depth_idx = find_nearest_depth(depth, dpth)\n",
    "\n",
    "fig = plt.figure(figsize=(10, 5))\n",
    "ax = plt.axes(projection=ccrs.PlateCarree())\n",
    "ax.coastlines()\n",
    "\n",
    "# Grid and axis format\n",
    "gl = ax.gridlines(draw_labels=True, linestyle='--')\n",
    "gl.top_labels = False\n",
    "gl.right_labels = False\n",
    "gl.xformatter = LONGITUDE_FORMATTER\n",
    "gl.yformatter = LATITUDE_FORMATTER\n",
    "\n",
    "# Retrieve data at given depth\n",
    "data_at_depth = d18Osw[nearest_depth_idx, :, :]\n",
    "\n",
    "# trace map\n",
    "contour = ax.contourf(lon, lat, data_at_depth, 40, transform=ccrs.PlateCarree(), cmap='coolwarm')\n",
    "cbar = plt.colorbar(contour, ax=ax, orientation='vertical', label='δ¹⁸Oₛₑₐᵥᵥₐₜₑᵣ (‰ V-SMOW)')\n",
    "ax.set_title(f'seawater oxygen isotope composition at {depth[nearest_depth_idx]} meters depth')\n",
    "\n",
    "# plt.show()"
   ]
  }
 ],
 "metadata": {
  "kernelspec": {
   "display_name": ".venv",
   "language": "python",
   "name": "python3"
  },
  "language_info": {
   "codemirror_mode": {
    "name": "ipython",
    "version": 3
   },
   "file_extension": ".py",
   "mimetype": "text/x-python",
   "name": "python",
   "nbconvert_exporter": "python",
   "pygments_lexer": "ipython3",
   "version": "3.11.2"
  }
 },
 "nbformat": 4,
 "nbformat_minor": 2
}
