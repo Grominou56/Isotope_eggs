{
 "cells": [
  {
   "cell_type": "code",
   "execution_count": null,
   "id": "7785bae6",
   "metadata": {},
   "outputs": [],
   "source": [
    "import matplotlib.pyplot as plt\n",
    "import pandas as pd\n",
    "import numpy as np\n",
    "from gui_functions import load_table_file, select_columns_gui, filter_dataframe_by_checkboxes"
   ]
  },
  {
   "cell_type": "code",
   "execution_count": null,
   "id": "2a339ced",
   "metadata": {},
   "outputs": [],
   "source": [
    "\"\"\" Load dataset as Pandas dataframe, select columns and clean dataset \"\"\"\n",
    "\n",
    "df = load_table_file()\n",
    "if df is not None:\n",
    "    df_select = select_columns_gui(df)\n",
    "    # filtered_df = filter_dataframe_by_checkboxes(df_select)\n",
    "    # filtered_df = df_select.dropna(axis=0, subset=['d18Oc'])\n",
    "    df_select = df_select.dropna(axis=0, subset=['d18Oc'])\n",
    "    df_branta = df_select[df_select['Taxon'] == 'Branta leucopsis']\n",
    "    print(df_branta)\n"
   ]
  },
  {
   "cell_type": "code",
   "execution_count": null,
   "id": "80c39af9",
   "metadata": {},
   "outputs": [],
   "source": [
    "\"\"\" Calculate bin size and create histogram \"\"\"\n",
    "\n",
    "data = df_branta['d18Oc']\n",
    "\n",
    "# Calculate the IQR\n",
    "IQR = np.percentile(data, 75) - np.percentile(data, 25)\n",
    "\n",
    "# Calculate the bin width using the Freedman-Diaconis rule\n",
    "bin_width_fd = 2 * IQR / np.power(len(data), 1/3)\n",
    "\n",
    "# Calculate the bin width using Sturges' rule\n",
    "bin_width_sturgess = (np.max(data) - np.min(data)) / (1 + 3.3 * np.log10(len(data)))\n",
    "\n",
    "# Calculate the bin width using Scott's rule\n",
    "bin_width_scott = 3.49 * np.std(data) / np.power(len(data), 1/3)\n",
    "\n",
    "print(\"bin width: {:.4f} (Freedman-Diaconis); {:.4f} (Sturges); {:.4f} (Scott)\".format(bin_width_fd, bin_width_sturgess, bin_width_scott))\n",
    "\n",
    "# Create histograms using the different bin widths\n",
    "# plt.hist(data, bins=np.arange(min(data), max(data), bin_width_fd))\n",
    "plt.hist(data, bins=np.arange(min(data), max(data), bin_width_sturgess))\n",
    "# plt.hist(data, bins=np.arange(min(data), max(data), bin_width_scott))\n",
    "plt.show()"
   ]
  }
 ],
 "metadata": {
  "kernelspec": {
   "display_name": ".venv",
   "language": "python",
   "name": "python3"
  },
  "language_info": {
   "codemirror_mode": {
    "name": "ipython",
    "version": 3
   },
   "file_extension": ".py",
   "mimetype": "text/x-python",
   "name": "python",
   "nbconvert_exporter": "python",
   "pygments_lexer": "ipython3",
   "version": "3.11.2"
  }
 },
 "nbformat": 4,
 "nbformat_minor": 5
}
